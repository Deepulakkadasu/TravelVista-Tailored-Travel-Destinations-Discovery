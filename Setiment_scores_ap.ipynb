{
 "cells": [
  {
   "cell_type": "code",
   "execution_count": 14,
   "id": "6447a682-809f-40b3-a5e7-af77f95166be",
   "metadata": {},
   "outputs": [
    {
     "name": "stderr",
     "output_type": "stream",
     "text": [
      "[nltk_data] Downloading package vader_lexicon to\n",
      "[nltk_data]     C:\\Users\\ldvpr\\AppData\\Roaming\\nltk_data...\n"
     ]
    },
    {
     "data": {
      "text/plain": [
       "True"
      ]
     },
     "execution_count": 14,
     "metadata": {},
     "output_type": "execute_result"
    }
   ],
   "source": [
    "import nltk\n",
    "nltk.download('vader_lexicon')\n"
   ]
  },
  {
   "cell_type": "code",
   "execution_count": 16,
   "id": "4f076a9c-5383-47a8-84a8-bfbad3a119a8",
   "metadata": {},
   "outputs": [],
   "source": [
    "import pandas as pd\n",
    "from nltk.sentiment.vader import SentimentIntensityAnalyzer"
   ]
  },
  {
   "cell_type": "code",
   "execution_count": 17,
   "id": "92d60d75-baf2-420b-ae48-8093f49c40c8",
   "metadata": {},
   "outputs": [],
   "source": [
    "df = pd.read_csv('C:/Users/ldvpr/OneDrive/Desktop/Internship/Data collection/CSVS/ap_atttractions.csv')"
   ]
  },
  {
   "cell_type": "code",
   "execution_count": 18,
   "id": "5d267ddb-bdb0-456f-9620-7a26fa4aeee8",
   "metadata": {},
   "outputs": [
    {
     "name": "stdout",
     "output_type": "stream",
     "text": [
      "                     Attraction_Name  \\\n",
      "0       Tirumala Venkateswara Temple   \n",
      "1                       Araku Valley   \n",
      "2              Visakhapatnam Beaches   \n",
      "3                        Belum Caves   \n",
      "4                    Undavalli Caves   \n",
      "5                    Kondapalli Fort   \n",
      "6                        Papikondalu   \n",
      "7                Kanaka Durga Temple   \n",
      "8   Sri Venkateswara Zoological Park   \n",
      "9                    Lepakshi Temple   \n",
      "10            Ethipothala Waterfalls   \n",
      "11       Pulicat Lake Bird Sanctuary   \n",
      "12                      Kolleru Lake   \n",
      "13                   Kondaveedu Fort   \n",
      "14                     Horsley Hills   \n",
      "15                 Manginapudi Beach   \n",
      "16               Srikalahasti Temple   \n",
      "17                 Kaigal Waterfalls   \n",
      "18                      Mypadu Beach   \n",
      "19               Nagarjuna Sagar Dam   \n",
      "20                          Ahobilam   \n",
      "21                      Uppada Beach   \n",
      "22                   Sri Vari Museum   \n",
      "23                       Rock Garden   \n",
      "24           Kondapalli Toys Village   \n",
      "25             Kailasagiri Hill Park   \n",
      "26                         NTR Beach   \n",
      "27                Rama Krishna Beach   \n",
      "28                       Borra Caves   \n",
      "29           Penchalakona Waterfalls   \n",
      "30                      Lumbini Park   \n",
      "31                  Rushikonda Beach   \n",
      "32               Kanaka Durga Temple   \n",
      "33                  Ramoji Film City   \n",
      "34                    Vodarevu Beach   \n",
      "35          Nelapattu Bird Sanctuary   \n",
      "36           Penchalakona Waterfalls   \n",
      "\n",
      "                                          Description  \\\n",
      "0   Visit one of the most revered pilgrimage sites...   \n",
      "1   Immerse yourself in the breathtaking beauty of...   \n",
      "2   Relax on the golden sands of RK Beach or indul...   \n",
      "3   Explore the second-largest cave system in Indi...   \n",
      "4   Marvel at the ancient rock-cut cave temples ad...   \n",
      "5   Unravel the history of this ancient fort while...   \n",
      "6   Embark on a scenic cruise along the Godavari R...   \n",
      "7   Seek blessings at this ancient temple dedicate...   \n",
      "8   Discover a wide array of exotic wildlife speci...   \n",
      "9   Admire the architectural grandeur and intricat...   \n",
      "10  Witness the majestic cascade of water as it pl...   \n",
      "11  Explore the serene backwaters of Pulicat Lake ...   \n",
      "12  Experience the tranquil beauty of one of the l...   \n",
      "13  Uncover the ancient ruins and architectural ma...   \n",
      "14  Escape to this charming hill station nestled a...   \n",
      "15  Relax on the pristine sands of this tranquil b...   \n",
      "16  Pay homage to Lord Shiva at this ancient templ...   \n",
      "17  Embark on a scenic trek through dense forests ...   \n",
      "18  Enjoy a leisurely day by the sea basking in th...   \n",
      "19  Marvel at the engineering marvel of this massi...   \n",
      "20  Embark on a spiritual journey to this sacred p...   \n",
      "21  Unwind on the pristine shores of Uppada Beach ...   \n",
      "22  Immerse yourself in the rich history and herit...   \n",
      "23  Explore the unique rock formations and sculptu...   \n",
      "24  Witness the artistry of traditional Kondapalli...   \n",
      "25  Soak in panoramic views of Visakhapatnam citys...   \n",
      "26  Stroll along the picturesque NTR Beach promena...   \n",
      "27  Relax on the golden sands of Rama Krishna Beac...   \n",
      "28  Marvel at the spectacular limestone formations...   \n",
      "29  Experience the natural beauty of Penchalakona ...   \n",
      "30  Relax in the serene ambiance of Lumbini Park o...   \n",
      "31  Indulge in thrilling water sports activities o...   \n",
      "32  Seek blessings at this ancient temple dedicate...   \n",
      "33  Step into the enchanting world of cinema at Ra...   \n",
      "34  Bask in the sun and enjoy thrilling water spor...   \n",
      "35  Observe a wide variety of bird species includi...   \n",
      "36  Experience the natural beauty of Penchalakona ...   \n",
      "\n",
      "                                           Category Estimated_Budget_(INR)  \n",
      "0                                    Religious Site       500/- per person  \n",
      "1                               Hill Station/Nature      1500/- per person  \n",
      "2                                Beach/Recreational       800/- per person  \n",
      "3                                    Cave/Adventure       300/- per person  \n",
      "4                      Historical Site/Architecture       200/- per person  \n",
      "5                              Fort/Historical Site       100/- per person  \n",
      "6                               River Cruise/Nature      2000/- per person  \n",
      "7                                    Religious Site       100/- per person  \n",
      "8                            Wildlife Sanctuary/Zoo       250/- per person  \n",
      "9                      Historical Site/Architecture        50/- per person  \n",
      "10                                 Waterfall/Nature       100/- per person  \n",
      "11                            Bird Sanctuary/Nature       200/- per person  \n",
      "12                                      Lake/Nature       150/- per person  \n",
      "13                             Fort/Historical Site        50/- per person  \n",
      "14                              Hill Station/Nature      1000/- per person  \n",
      "15                               Beach/Recreational       500/- per person  \n",
      "16                      Religious Site/Architecture        50/- per person  \n",
      "17                                 Waterfall/Nature       100/- per person  \n",
      "18                               Beach/Recreational       600/- per person  \n",
      "19                                  Dam/Sightseeing       200/- per person  \n",
      "20                            Religious Site/Nature       300/- per person  \n",
      "21                               Beach/Recreational       700/- per person  \n",
      "22                           Museum/Historical Site       100/- per person  \n",
      "23                               Garden/Sightseeing        50/- per person  \n",
      "24                                  Handicrafts/Art       100/- per person  \n",
      "25                           Hill Park/Recreational       300/- per person  \n",
      "26                               Beach/Recreational       500/- per person  \n",
      "27                               Beach/Recreational       600/- per person  \n",
      "28                                   Cave/Adventure       400/- per person  \n",
      "29                                 Waterfall/Nature       100/- per person  \n",
      "30                                Park/Recreational        50/- per person  \n",
      "31                               Beach/Recreational       800/- per person  \n",
      "32   perched atop Indrakeeladri Hill.Religious Site       100/- per person  \n",
      "33                        Entertainment/Film Studio      1500/- per person  \n",
      "34                               Beach/Recreational       700/- per person  \n",
      "35                            Bird Sanctuary/Nature       200/- per person  \n",
      "36                                 Waterfall/Nature       100/- per person  \n"
     ]
    }
   ],
   "source": [
    "print(df)"
   ]
  },
  {
   "cell_type": "code",
   "execution_count": 19,
   "id": "c4fa71f6-0387-44eb-bab2-9b34ac3453d6",
   "metadata": {},
   "outputs": [],
   "source": [
    "sia = SentimentIntensityAnalyzer()"
   ]
  },
  {
   "cell_type": "code",
   "execution_count": 21,
   "id": "a505eb12-02b3-4787-b7a3-8226cdb4b585",
   "metadata": {},
   "outputs": [],
   "source": [
    "def get_sentiment(text):\n",
    "    return sia.polarity_scores(text)['compound']\n"
   ]
  },
  {
   "cell_type": "code",
   "execution_count": 29,
   "id": "df4786ce-8c60-42dd-bad2-6ed65b56a416",
   "metadata": {},
   "outputs": [],
   "source": [
    "df['Sentiment_Score'] = df['Description'].apply(get_sentiment)"
   ]
  },
  {
   "cell_type": "code",
   "execution_count": 30,
   "id": "d3ae55c1-a698-445f-b607-67e9cf8fa9c7",
   "metadata": {},
   "outputs": [
    {
     "name": "stdout",
     "output_type": "stream",
     "text": [
      "                Attraction_Name  \\\n",
      "0  Tirumala Venkateswara Temple   \n",
      "1                  Araku Valley   \n",
      "2         Visakhapatnam Beaches   \n",
      "3                   Belum Caves   \n",
      "4               Undavalli Caves   \n",
      "\n",
      "                                         Description  \\\n",
      "0  Visit one of the most revered pilgrimage sites...   \n",
      "1  Immerse yourself in the breathtaking beauty of...   \n",
      "2  Relax on the golden sands of RK Beach or indul...   \n",
      "3  Explore the second-largest cave system in Indi...   \n",
      "4  Marvel at the ancient rock-cut cave temples ad...   \n",
      "\n",
      "                       Category Estimated_Budget_(INR)  Sentiment_Score  \n",
      "0                Religious Site       500/- per person           0.7645  \n",
      "1           Hill Station/Nature      1500/- per person           0.7783  \n",
      "2            Beach/Recreational       800/- per person           0.4404  \n",
      "3                Cave/Adventure       300/- per person           0.5267  \n",
      "4  Historical Site/Architecture       200/- per person           0.6369  \n"
     ]
    }
   ],
   "source": [
    "print(df.head())"
   ]
  },
  {
   "cell_type": "code",
   "execution_count": 34,
   "id": "beb59b33-32a4-441e-91a9-a538f249d485",
   "metadata": {},
   "outputs": [],
   "source": [
    "import pandas as pd"
   ]
  },
  {
   "cell_type": "code",
   "execution_count": 41,
   "id": "5bc350be-b2ce-4c59-8540-ca7db9b3b85e",
   "metadata": {},
   "outputs": [
    {
     "name": "stdout",
     "output_type": "stream",
     "text": [
      "CSV file successfully saved at: C:\\Users\\ldvpr\\OneDrive\\Desktop\\Internship\\Data collection\\CSVS\\apwithits_sentiment.csv\n"
     ]
    }
   ],
   "source": [
    "\n",
    "# Specify the full file path including the directory where you want to save the CSV file\n",
    "file_path = r'C:\\Users\\ldvpr\\OneDrive\\Desktop\\Internship\\Data collection\\CSVS\\apwithits_sentiment.csv'\n",
    "\n",
    "try:\n",
    "    # Create a CSV file from the DataFrame and save it to the specified path\n",
    "    df.to_csv(file_path, index=False)\n",
    "    print(\"CSV file successfully saved at:\", file_path)\n",
    "except Exception as e:\n",
    "    print(\"Error occurred while saving CSV file:\", e)"
   ]
  },
  {
   "cell_type": "code",
   "execution_count": 33,
   "id": "78ca1574-cb84-44ee-8357-5b77fbdc50f8",
   "metadata": {},
   "outputs": [
    {
     "name": "stdout",
     "output_type": "stream",
     "text": [
      "                     Attraction_Name  \\\n",
      "0       Tirumala Venkateswara Temple   \n",
      "1                       Araku Valley   \n",
      "2              Visakhapatnam Beaches   \n",
      "3                        Belum Caves   \n",
      "4                    Undavalli Caves   \n",
      "5                    Kondapalli Fort   \n",
      "6                        Papikondalu   \n",
      "7                Kanaka Durga Temple   \n",
      "8   Sri Venkateswara Zoological Park   \n",
      "9                    Lepakshi Temple   \n",
      "10            Ethipothala Waterfalls   \n",
      "11       Pulicat Lake Bird Sanctuary   \n",
      "12                      Kolleru Lake   \n",
      "13                   Kondaveedu Fort   \n",
      "14                     Horsley Hills   \n",
      "15                 Manginapudi Beach   \n",
      "16               Srikalahasti Temple   \n",
      "17                 Kaigal Waterfalls   \n",
      "18                      Mypadu Beach   \n",
      "19               Nagarjuna Sagar Dam   \n",
      "20                          Ahobilam   \n",
      "21                      Uppada Beach   \n",
      "22                   Sri Vari Museum   \n",
      "23                       Rock Garden   \n",
      "24           Kondapalli Toys Village   \n",
      "25             Kailasagiri Hill Park   \n",
      "26                         NTR Beach   \n",
      "27                Rama Krishna Beach   \n",
      "28                       Borra Caves   \n",
      "29           Penchalakona Waterfalls   \n",
      "30                      Lumbini Park   \n",
      "31                  Rushikonda Beach   \n",
      "32               Kanaka Durga Temple   \n",
      "33                  Ramoji Film City   \n",
      "34                    Vodarevu Beach   \n",
      "35          Nelapattu Bird Sanctuary   \n",
      "36           Penchalakona Waterfalls   \n",
      "\n",
      "                                          Description  \\\n",
      "0   Visit one of the most revered pilgrimage sites...   \n",
      "1   Immerse yourself in the breathtaking beauty of...   \n",
      "2   Relax on the golden sands of RK Beach or indul...   \n",
      "3   Explore the second-largest cave system in Indi...   \n",
      "4   Marvel at the ancient rock-cut cave temples ad...   \n",
      "5   Unravel the history of this ancient fort while...   \n",
      "6   Embark on a scenic cruise along the Godavari R...   \n",
      "7   Seek blessings at this ancient temple dedicate...   \n",
      "8   Discover a wide array of exotic wildlife speci...   \n",
      "9   Admire the architectural grandeur and intricat...   \n",
      "10  Witness the majestic cascade of water as it pl...   \n",
      "11  Explore the serene backwaters of Pulicat Lake ...   \n",
      "12  Experience the tranquil beauty of one of the l...   \n",
      "13  Uncover the ancient ruins and architectural ma...   \n",
      "14  Escape to this charming hill station nestled a...   \n",
      "15  Relax on the pristine sands of this tranquil b...   \n",
      "16  Pay homage to Lord Shiva at this ancient templ...   \n",
      "17  Embark on a scenic trek through dense forests ...   \n",
      "18  Enjoy a leisurely day by the sea basking in th...   \n",
      "19  Marvel at the engineering marvel of this massi...   \n",
      "20  Embark on a spiritual journey to this sacred p...   \n",
      "21  Unwind on the pristine shores of Uppada Beach ...   \n",
      "22  Immerse yourself in the rich history and herit...   \n",
      "23  Explore the unique rock formations and sculptu...   \n",
      "24  Witness the artistry of traditional Kondapalli...   \n",
      "25  Soak in panoramic views of Visakhapatnam citys...   \n",
      "26  Stroll along the picturesque NTR Beach promena...   \n",
      "27  Relax on the golden sands of Rama Krishna Beac...   \n",
      "28  Marvel at the spectacular limestone formations...   \n",
      "29  Experience the natural beauty of Penchalakona ...   \n",
      "30  Relax in the serene ambiance of Lumbini Park o...   \n",
      "31  Indulge in thrilling water sports activities o...   \n",
      "32  Seek blessings at this ancient temple dedicate...   \n",
      "33  Step into the enchanting world of cinema at Ra...   \n",
      "34  Bask in the sun and enjoy thrilling water spor...   \n",
      "35  Observe a wide variety of bird species includi...   \n",
      "36  Experience the natural beauty of Penchalakona ...   \n",
      "\n",
      "                                           Category Estimated_Budget_(INR)  \\\n",
      "0                                    Religious Site       500/- per person   \n",
      "1                               Hill Station/Nature      1500/- per person   \n",
      "2                                Beach/Recreational       800/- per person   \n",
      "3                                    Cave/Adventure       300/- per person   \n",
      "4                      Historical Site/Architecture       200/- per person   \n",
      "5                              Fort/Historical Site       100/- per person   \n",
      "6                               River Cruise/Nature      2000/- per person   \n",
      "7                                    Religious Site       100/- per person   \n",
      "8                            Wildlife Sanctuary/Zoo       250/- per person   \n",
      "9                      Historical Site/Architecture        50/- per person   \n",
      "10                                 Waterfall/Nature       100/- per person   \n",
      "11                            Bird Sanctuary/Nature       200/- per person   \n",
      "12                                      Lake/Nature       150/- per person   \n",
      "13                             Fort/Historical Site        50/- per person   \n",
      "14                              Hill Station/Nature      1000/- per person   \n",
      "15                               Beach/Recreational       500/- per person   \n",
      "16                      Religious Site/Architecture        50/- per person   \n",
      "17                                 Waterfall/Nature       100/- per person   \n",
      "18                               Beach/Recreational       600/- per person   \n",
      "19                                  Dam/Sightseeing       200/- per person   \n",
      "20                            Religious Site/Nature       300/- per person   \n",
      "21                               Beach/Recreational       700/- per person   \n",
      "22                           Museum/Historical Site       100/- per person   \n",
      "23                               Garden/Sightseeing        50/- per person   \n",
      "24                                  Handicrafts/Art       100/- per person   \n",
      "25                           Hill Park/Recreational       300/- per person   \n",
      "26                               Beach/Recreational       500/- per person   \n",
      "27                               Beach/Recreational       600/- per person   \n",
      "28                                   Cave/Adventure       400/- per person   \n",
      "29                                 Waterfall/Nature       100/- per person   \n",
      "30                                Park/Recreational        50/- per person   \n",
      "31                               Beach/Recreational       800/- per person   \n",
      "32   perched atop Indrakeeladri Hill.Religious Site       100/- per person   \n",
      "33                        Entertainment/Film Studio      1500/- per person   \n",
      "34                               Beach/Recreational       700/- per person   \n",
      "35                            Bird Sanctuary/Nature       200/- per person   \n",
      "36                                 Waterfall/Nature       100/- per person   \n",
      "\n",
      "    Sentiment_Score  \n",
      "0            0.7645  \n",
      "1            0.7783  \n",
      "2            0.4404  \n",
      "3            0.5267  \n",
      "4            0.6369  \n",
      "5            0.5267  \n",
      "6            0.4588  \n",
      "7            0.7579  \n",
      "8            0.3612  \n",
      "9            0.8779  \n",
      "10           0.0000  \n",
      "11           0.6705  \n",
      "12           0.6124  \n",
      "13           0.0258  \n",
      "14           0.8519  \n",
      "15           0.6956  \n",
      "16           0.6808  \n",
      "17           0.0258  \n",
      "18           0.7003  \n",
      "19           0.8957  \n",
      "20           0.6808  \n",
      "21           0.5719  \n",
      "22           0.5574  \n",
      "23           0.0644  \n",
      "24           0.0000  \n",
      "25           0.4939  \n",
      "26           0.3818  \n",
      "27           0.4404  \n",
      "28           0.4215  \n",
      "29           0.7430  \n",
      "30           0.7096  \n",
      "31           0.4767  \n",
      "32           0.7579  \n",
      "33           0.0000  \n",
      "34           0.7430  \n",
      "35           0.3612  \n",
      "36           0.7430  \n"
     ]
    }
   ],
   "source": [
    "print(df)"
   ]
  },
  {
   "cell_type": "code",
   "execution_count": 38,
   "id": "344c1f30-81fa-43d6-9aaf-d5e486e439de",
   "metadata": {},
   "outputs": [
    {
     "ename": "SyntaxError",
     "evalue": "invalid syntax. Perhaps you forgot a comma? (1994112340.py, line 1)",
     "output_type": "error",
     "traceback": [
      "\u001b[1;36m  Cell \u001b[1;32mIn[38], line 1\u001b[1;36m\u001b[0m\n\u001b[1;33m    df.to_csv('file_path = r'C:\\Users\\ldvpr\\OneDrive\\Desktop\\Internship\\Data collection\\CSVS\\output.csv'', index=False)\u001b[0m\n\u001b[1;37m              ^\u001b[0m\n\u001b[1;31mSyntaxError\u001b[0m\u001b[1;31m:\u001b[0m invalid syntax. Perhaps you forgot a comma?\n"
     ]
    }
   ],
   "source": []
  }
 ],
 "metadata": {
  "kernelspec": {
   "display_name": "Python 3 (ipykernel)",
   "language": "python",
   "name": "python3"
  },
  "language_info": {
   "codemirror_mode": {
    "name": "ipython",
    "version": 3
   },
   "file_extension": ".py",
   "mimetype": "text/x-python",
   "name": "python",
   "nbconvert_exporter": "python",
   "pygments_lexer": "ipython3",
   "version": "3.11.7"
  }
 },
 "nbformat": 4,
 "nbformat_minor": 5
}
